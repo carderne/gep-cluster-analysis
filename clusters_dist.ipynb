{
 "cells": [
  {
   "cell_type": "code",
   "execution_count": 61,
   "metadata": {},
   "outputs": [],
   "source": [
    "from pathlib import Path\n",
    "\n",
    "import pandas as pd"
   ]
  },
  {
   "cell_type": "code",
   "execution_count": 62,
   "metadata": {},
   "outputs": [
    {
     "name": "stdout",
     "output_type": "stream",
     "text": [
      "46\n"
     ]
    }
   ],
   "source": [
    "files = sorted([f for f in Path().glob(\"data/**/*-1-country-inputs.csv\")])\n",
    "print(len(files))"
   ]
  },
  {
   "cell_type": "code",
   "execution_count": 63,
   "metadata": {},
   "outputs": [
    {
     "name": "stdout",
     "output_type": "stream",
     "text": [
      "ao\n",
      "bf\n",
      "bi\n",
      "bj\n",
      "bw\n",
      "cd\n",
      "cf\n",
      "cg\n",
      "ci\n",
      "cm\n",
      "dj\n",
      "er\n",
      "et\n",
      "ga\n",
      "gh\n",
      "gm\n",
      "gn\n",
      "gq\n",
      "gw\n",
      "ke\n",
      "km\n",
      "lr\n",
      "ls\n",
      "mg\n",
      "ml\n",
      "mr\n",
      "mw\n",
      "mz\n",
      "na\n",
      "ne\n",
      "ng\n",
      "rw\n",
      "sd\n",
      "sl\n",
      "sn\n",
      "so\n",
      "ss\n",
      "st\n",
      "sz\n",
      "td\n",
      "tg\n",
      "tz\n",
      "ug\n",
      "za\n"
     ]
    },
    {
     "name": "stderr",
     "output_type": "stream",
     "text": [
      "/home/chris/.envs/def/lib/python3.8/site-packages/IPython/core/interactiveshell.py:3062: DtypeWarning: Columns (23) have mixed types.Specify dtype option on import or set low_memory=False.\n",
      "  has_raised = await self.run_ast_nodes(code_ast.body, cell_name,\n"
     ]
    },
    {
     "name": "stdout",
     "output_type": "stream",
     "text": [
      "zm\n",
      "zw\n"
     ]
    }
   ],
   "source": [
    "df_dist = None\n",
    "df_dist_pc = None\n",
    "\n",
    "for f in files:\n",
    "    co = f.stem.split(\"-\")[0]\n",
    "    print(co)\n",
    "    df = pd.read_csv(f)\n",
    "    dist = (\n",
    "        pd.cut(df.Pop, bins=[0, 10, 100, 500, 1e3, 1e4, 1e5, 1e99])\n",
    "        .value_counts()\n",
    "        .sort_index()\n",
    "        .rename(co)\n",
    "    )\n",
    "    dist_pc = dist / dist.sum()\n",
    "    if df_dist is None:\n",
    "        df_dist = pd.DataFrame(dist)\n",
    "        df_dist_pc = pd.DataFrame(dist_pc)\n",
    "    else:\n",
    "        df_dist[co] = dist\n",
    "        df_dist_pc[co] = dist_pc\n",
    "    df_dist.to_csv(\"df_dist.csv\")\n",
    "    df_dist_pc.to_csv(\"df_dist_pc.csv\")"
   ]
  },
  {
   "cell_type": "code",
   "execution_count": null,
   "metadata": {},
   "outputs": [],
   "source": []
  }
 ],
 "metadata": {
  "kernelspec": {
   "display_name": "Python 3",
   "language": "python",
   "name": "python3"
  },
  "language_info": {
   "codemirror_mode": {
    "name": "ipython",
    "version": 3
   },
   "file_extension": ".py",
   "mimetype": "text/x-python",
   "name": "python",
   "nbconvert_exporter": "python",
   "pygments_lexer": "ipython3",
   "version": "3.8.2"
  }
 },
 "nbformat": 4,
 "nbformat_minor": 4
}
