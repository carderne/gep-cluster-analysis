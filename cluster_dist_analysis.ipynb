{
 "cells": [
  {
   "cell_type": "markdown",
   "metadata": {},
   "source": [
    "# Analyse cluster population distribution in Sub-Saharan Africa"
   ]
  },
  {
   "cell_type": "code",
   "execution_count": null,
   "metadata": {},
   "outputs": [],
   "source": [
    "from pathlib import Path\n",
    "\n",
    "import pandas as pd\n",
    "import matplotlib.pyplot as plt\n",
    "import seaborn as sns\n",
    "import numpy as np"
   ]
  },
  {
   "cell_type": "code",
   "execution_count": null,
   "metadata": {},
   "outputs": [],
   "source": [
    "files = sorted([f for f in Path().glob(\"data/**/*-1-country-inputs.csv\")])\n",
    "print(\"Num files\", len(files))"
   ]
  },
  {
   "cell_type": "markdown",
   "metadata": {},
   "source": [
    "## Per-country and aggregate population distribution\n",
    "With set bins, specifying both cluster and poulation counts"
   ]
  },
  {
   "cell_type": "code",
   "execution_count": null,
   "metadata": {},
   "outputs": [],
   "source": [
    "for i, f in enumerate(files):\n",
    "    co = f.stem.split(\"-\")[0]\n",
    "    print(co)\n",
    "    pop = pd.read_csv(f, usecols=[\"Pop\"])\n",
    "    \n",
    "\n",
    "    pop = pop.assign(Bin=pd.cut(pop.Pop, bins=bins))\n",
    "    clust_count = pop.Bin.value_counts().sort_index().rename(co)\n",
    "    pop_count = pop.groupby(\"Bin\").sum().Pop.rename(co)\n",
    "\n",
    "    clust_pc = clust_count / clust_count.sum()\n",
    "    pop_pc = pop_count / pop_count.sum()\n",
    "\n",
    "    if i == 0:\n",
    "        df_clust_count = pd.DataFrame(clust_count)\n",
    "        df_clust_pc = pd.DataFrame(clust_pc)\n",
    "        df_pop_count = pd.DataFrame(pop_count)\n",
    "        df_pop_pc = pd.DataFrame(pop_pc)\n",
    "    else:\n",
    "        df_clust_count[co] = clust_count\n",
    "        df_clust_pc[co] = clust_pc\n",
    "        df_pop_count[co] = pop_count\n",
    "        df_pop_pc[co] = pop_pc\n",
    "\n",
    "    df_clust_count.to_csv(\"df_clust_count.csv\")\n",
    "    df_clust_pc.to_csv(\"df_clust_pc.csv\")\n",
    "    df_pop_count.to_csv(\"df_pop_count.csv\")\n",
    "    df_pop_pc.to_csv(\"df_pop_pc.csv\")"
   ]
  },
  {
   "cell_type": "markdown",
   "metadata": {},
   "source": [
    "## And a chart for the whole region showing much the same thing"
   ]
  },
  {
   "cell_type": "code",
   "execution_count": null,
   "metadata": {},
   "outputs": [],
   "source": [
    "df = None\n",
    "for i, f in enumerate(files):\n",
    "    co = f.stem.split(\"-\")[0]\n",
    "    print(co, \" \", end=\"\", flush=True)\n",
    "    pop = pd.read_csv(f, usecols=[\"Pop\"])\n",
    "    pop[\"country\"] = co\n",
    "    if df is None:\n",
    "        df = pop\n",
    "    else:\n",
    "        df = df.append(pop)"
   ]
  },
  {
   "cell_type": "code",
   "execution_count": null,
   "metadata": {},
   "outputs": [],
   "source": [
    "sns.set()\n",
    "fig, ax = plt.subplots(figsize=(20, 10))\n",
    "bins = [x / 2 for x in range(0, 17)]\n",
    "plt.xticks(bins, [f\"$10^{i:.0f}$\" for i in bins])\n",
    "ax.hist(np.log10(df.Pop), log=True, bins=bins, color=\"#99d8c9\")\n",
    "for label in ax.xaxis.get_ticklabels()[1::2]:\n",
    "    label.set_visible(False)\n",
    "ax.set_xlabel(\"Cluster size (people)\", fontsize=20)\n",
    "ax.set_ylabel(\"Count\", fontsize=20)\n",
    "ax.set_title(\"Cluster size distribution for Sub-Saharan Africa\", fontsize=30)\n",
    "ax.set_xlim([0, 7])\n",
    "ax.set_ylim([1, 10**7])\n",
    "ax.tick_params(axis=\"both\", which=\"both\", labelsize=14)\n",
    "plt.show()"
   ]
  },
  {
   "cell_type": "code",
   "execution_count": null,
   "metadata": {},
   "outputs": [],
   "source": []
  }
 ],
 "metadata": {
  "kernelspec": {
   "display_name": "Python 3",
   "language": "python",
   "name": "python3"
  },
  "language_info": {
   "codemirror_mode": {
    "name": "ipython",
    "version": 3
   },
   "file_extension": ".py",
   "mimetype": "text/x-python",
   "name": "python",
   "nbconvert_exporter": "python",
   "pygments_lexer": "ipython3",
   "version": "3.8.2"
  }
 },
 "nbformat": 4,
 "nbformat_minor": 4
}
